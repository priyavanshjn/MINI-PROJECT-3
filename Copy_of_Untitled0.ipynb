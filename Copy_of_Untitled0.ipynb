{
  "nbformat": 4,
  "nbformat_minor": 0,
  "metadata": {
    "colab": {
      "provenance": [],
      "authorship_tag": "ABX9TyOFSIu94Pu/Hql9RZ3xOtV0",
      "include_colab_link": true
    },
    "kernelspec": {
      "name": "python3",
      "display_name": "Python 3"
    },
    "language_info": {
      "name": "python"
    }
  },
  "cells": [
    {
      "cell_type": "markdown",
      "metadata": {
        "id": "view-in-github",
        "colab_type": "text"
      },
      "source": [
        "<a href=\"https://colab.research.google.com/github/priyavanshjn/MINI-PROJECT-3/blob/main/Copy_of_Untitled0.ipynb\" target=\"_parent\"><img src=\"https://colab.research.google.com/assets/colab-badge.svg\" alt=\"Open In Colab\"/></a>"
      ]
    },
    {
      "cell_type": "code",
      "execution_count": null,
      "metadata": {
        "id": "7_6kQNHyKR91"
      },
      "outputs": [],
      "source": [
        "1. Write a python program to sort the list of heterogeneous data.\n",
        "e.g.\n",
        "print(L)\n",
        "L.sort()\n",
        "print(L)\n",
        "L = [\"Ram\", 1, \"Shyam\", 2, \"Aman\", 3]\n",
        "# Above code gives error. Correct it"
      ]
    },
    {
      "cell_type": "code",
      "source": [
        "# Original  list\n",
        "L = [\"Ram\", 1, \"Shyam\", 2, \"Aman\", 3]\n",
        "\n",
        "# Separate strings and integers\n",
        "strings = sorted([x for x in L if isinstance(x, str)])\n",
        "numbers = sorted([x for x in L if isinstance(x, int)])\n",
        "\n",
        "# Combine the sorted parts (you can choose the order)\n",
        "sorted_L = strings + numbers\n",
        "\n",
        "print(\"Original list:\", L)\n",
        "print(\"Sorted list (strings first, then numbers):\", sorted_L)\n"
      ],
      "metadata": {
        "id": "HytH_HAbLWm-"
      },
      "execution_count": null,
      "outputs": []
    }
  ]
}